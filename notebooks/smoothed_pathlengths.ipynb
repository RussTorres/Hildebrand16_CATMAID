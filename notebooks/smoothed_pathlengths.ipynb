{
 "cells": [
  {
   "cell_type": "code",
   "execution_count": 1,
   "metadata": {
    "collapsed": false
   },
   "outputs": [],
   "source": [
    "import json              # skeletons can be saved in json format\n",
    "import catmaid_analysis  # assumes you have run setup.py"
   ]
  },
  {
   "cell_type": "code",
   "execution_count": 2,
   "metadata": {
    "collapsed": false
   },
   "outputs": [],
   "source": [
    "# default connection to http://hildebrand16.neurodata.io/catmaid/6/\n",
    "s = catmaid_analysis.server.ServerSkeletonSource(\n",
    "    catmaid_analysis.server.SKELETON_SOURCE)"
   ]
  },
  {
   "cell_type": "code",
   "execution_count": 3,
   "metadata": {
    "collapsed": false
   },
   "outputs": [],
   "source": [
    "n = s.get_neuron(366024)  # get an arbitrary neuron by skeleton id"
   ]
  },
  {
   "cell_type": "code",
   "execution_count": 4,
   "metadata": {
    "collapsed": false
   },
   "outputs": [],
   "source": [
    "n_kfs = catmaid_analysis.algorithms.smoothing.smooth_neuron(n, alg='kalman', QC='strictLT', fix_applicate=True)"
   ]
  },
  {
   "cell_type": "code",
   "execution_count": 5,
   "metadata": {
    "collapsed": false
   },
   "outputs": [
    {
     "name": "stdout",
     "output_type": "stream",
     "text": [
      "905038.020954\n",
      "667384.807919\n"
     ]
    }
   ],
   "source": [
    "# print total pathlength of neuron before and after smoothing\n",
    "print catmaid_analysis.algorithms.morphology.total_pathlength(n)\n",
    "print catmaid_analysis.algorithms.morphology.total_pathlength(n_kfs)"
   ]
  },
  {
   "cell_type": "code",
   "execution_count": 6,
   "metadata": {
    "collapsed": true
   },
   "outputs": [],
   "source": [
    "# save skeletons in legacy json format for faster loading during future analysis\n",
    "with open('{}_unsmoothed.json'.format(n.name), 'w') as f:\n",
    "    json.dump(n.skeleton, f)\n",
    "\n",
    "with open('{}_kalman.json'.format(n.name), 'w') as f:\n",
    "    json.dump(n_kfs.skeleton, f)"
   ]
  },
  {
   "cell_type": "code",
   "execution_count": null,
   "metadata": {
    "collapsed": true
   },
   "outputs": [],
   "source": []
  }
 ],
 "metadata": {
  "anaconda-cloud": {},
  "kernelspec": {
   "display_name": "Python 2",
   "language": "python",
   "name": "hildebeast"
  },
  "language_info": {
   "codemirror_mode": {
    "name": "ipython",
    "version": 2
   },
   "file_extension": ".py",
   "mimetype": "text/x-python",
   "name": "python",
   "nbconvert_exporter": "python",
   "pygments_lexer": "ipython2",
   "version": "2.7.12"
  }
 },
 "nbformat": 4,
 "nbformat_minor": 1
}
